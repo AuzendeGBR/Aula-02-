{
 "cells": [
  {
   "cell_type": "code",
   "execution_count": 23,
   "metadata": {},
   "outputs": [
    {
     "name": "stdout",
     "output_type": "stream",
     "text": [
      "1 + x \n"
     ]
    }
   ],
   "source": [
    "#comentando codigo \n",
    "\n",
    "x = \"1\"\n",
    "\n",
    "print (\"1 + x \")\n"
   ]
  },
  {
   "cell_type": "code",
   "execution_count": 24,
   "metadata": {},
   "outputs": [
    {
     "name": "stdout",
     "output_type": "stream",
     "text": [
      "55\n"
     ]
    }
   ],
   "source": [
    "idade1 = 20\n",
    "\n",
    "idade2 = 35\n",
    "\n",
    "idade1 + idade2 \n",
    "\n",
    "somaIdades = idade1 + idade2 \n",
    "\n",
    "print(somaIdades)"
   ]
  },
  {
   "cell_type": "code",
   "execution_count": 25,
   "metadata": {},
   "outputs": [
    {
     "name": "stdout",
     "output_type": "stream",
     "text": [
      "385.0\n"
     ]
    }
   ],
   "source": [
    "\n",
    "Subtração = idade1 - idade2\n",
    "\n",
    "Muitiplicação = idade1 * idade2 \n",
    "\n",
    "Divisão = idade1 / idade2 \n",
    "\n",
    "print(Divisão * Muitiplicação + Subtração)"
   ]
  },
  {
   "cell_type": "code",
   "execution_count": 32,
   "metadata": {},
   "outputs": [
    {
     "data": {
      "text/plain": [
       "36.25"
      ]
     },
     "execution_count": 32,
     "metadata": {},
     "output_type": "execute_result"
    }
   ],
   "source": [
    "2 *(idade1 + idade2)\n",
    "\n",
    "2 * idade1 + 3 * idade2 / 4\n",
    "\n",
    "(2 * idade1 + 3 * idade2) / 4 "
   ]
  },
  {
   "cell_type": "code",
   "execution_count": 39,
   "metadata": {},
   "outputs": [
    {
     "name": "stdout",
     "output_type": "stream",
     "text": [
      "110\n",
      "66.25\n",
      "36.25\n"
     ]
    }
   ],
   "source": [
    "calculo1 = 2 *(idade1 + idade2)\n",
    "\n",
    "calculo2 = 2 * idade1 + 3 * idade2 / 4\n",
    "\n",
    "calculo3 = (2 * idade1 + 3 * idade2) / 4 \n",
    "\n",
    "print(calculo1)\n",
    "\n",
    "print(calculo2)\n",
    "\n",
    "print(calculo3)\n"
   ]
  },
  {
   "cell_type": "code",
   "execution_count": 42,
   "metadata": {},
   "outputs": [
    {
     "name": "stdout",
     "output_type": "stream",
     "text": [
      "400\n",
      "1225\n"
     ]
    }
   ],
   "source": [
    "idade1 **2 \n",
    "\n",
    "idade2 **2 \n",
    "\n",
    "print(idade1 **2)\n",
    "\n",
    "print(idade2 **2)"
   ]
  },
  {
   "cell_type": "code",
   "execution_count": 41,
   "metadata": {},
   "outputs": [
    {
     "name": "stdout",
     "output_type": "stream",
     "text": [
      "10\n",
      "17\n",
      "10.0\n",
      "17.5\n"
     ]
    }
   ],
   "source": [
    "idade1 //2\n",
    "\n",
    "idade2 //2\n",
    "\n",
    "print(idade1 //2)\n",
    "\n",
    "print(idade2 //2)\n",
    "\n",
    "print(idade1 /2)\n",
    "\n",
    "print(idade2 /2)"
   ]
  },
  {
   "cell_type": "code",
   "execution_count": 43,
   "metadata": {},
   "outputs": [
    {
     "name": "stdout",
     "output_type": "stream",
     "text": [
      "15\n"
     ]
    }
   ],
   "source": [
    "idade2 % idade1 \n",
    "\n",
    "print(idade2 % idade1) "
   ]
  },
  {
   "cell_type": "code",
   "execution_count": 55,
   "metadata": {},
   "outputs": [
    {
     "name": "stdout",
     "output_type": "stream",
     "text": [
      "rafaelarcanjo\n"
     ]
    }
   ],
   "source": [
    "nome = 'rafael'\n",
    "\n",
    "sobrenome = 'arcanjo' \n",
    "\n",
    "print(nome + sobrenome)"
   ]
  },
  {
   "cell_type": "code",
   "execution_count": 58,
   "metadata": {},
   "outputs": [
    {
     "name": "stdout",
     "output_type": "stream",
     "text": [
      "rafaelarcanjo\n",
      "ola, rafael você tem 18 anos.\n"
     ]
    }
   ],
   "source": [
    "print(nome + \"\" + sobrenome)\n",
    "\n",
    "print(\"ola,\",nome, \"você tem\", idade1 - 2 , \"anos.\")"
   ]
  },
  {
   "cell_type": "code",
   "execution_count": 62,
   "metadata": {},
   "outputs": [],
   "source": [
    "idade=input('digite sua idade')"
   ]
  },
  {
   "cell_type": "code",
   "execution_count": 61,
   "metadata": {},
   "outputs": [
    {
     "data": {
      "text/plain": [
       "str"
      ]
     },
     "execution_count": 61,
     "metadata": {},
     "output_type": "execute_result"
    }
   ],
   "source": [
    "type(idade)"
   ]
  },
  {
   "cell_type": "code",
   "execution_count": 63,
   "metadata": {},
   "outputs": [
    {
     "name": "stdout",
     "output_type": "stream",
     "text": [
      "18\n"
     ]
    }
   ],
   "source": [
    "print(idade)"
   ]
  },
  {
   "cell_type": "code",
   "execution_count": 64,
   "metadata": {},
   "outputs": [],
   "source": [
    "idade= int(input('digite sua idade'))"
   ]
  },
  {
   "cell_type": "code",
   "execution_count": 65,
   "metadata": {},
   "outputs": [
    {
     "name": "stdout",
     "output_type": "stream",
     "text": [
      "18\n"
     ]
    }
   ],
   "source": [
    "print(idade)"
   ]
  },
  {
   "cell_type": "markdown",
   "metadata": {},
   "source": [
    "Multiplicação = *\n",
    "\n",
    "Adição = +\n",
    "\n",
    "Divisão = /\n",
    "\n",
    "Subtração = -\n",
    "\n",
    "Exponenciação = **\n",
    "\n",
    "Parte inteira // indica a parte inteira de uma divisão:\n",
    "\n",
    "idade1 // idade2 \n",
    "\n",
    "perceba que é diferente do resildado de:\n",
    "\n",
    "idade1 / idade2 \n",
    "\n",
    "modulo = % idica o resto da divisão\n",
    "\n",
    "idade2 % idade1 \n",
    "\n",
    "input = armazenar?\n",
    "\n",
    "type = ativar? "
   ]
  }
 ],
 "metadata": {
  "kernelspec": {
   "display_name": "Python 3",
   "language": "python",
   "name": "python3"
  },
  "language_info": {
   "codemirror_mode": {
    "name": "ipython",
    "version": 3
   },
   "file_extension": ".py",
   "mimetype": "text/x-python",
   "name": "python",
   "nbconvert_exporter": "python",
   "pygments_lexer": "ipython3",
   "version": "3.10.8"
  }
 },
 "nbformat": 4,
 "nbformat_minor": 2
}
